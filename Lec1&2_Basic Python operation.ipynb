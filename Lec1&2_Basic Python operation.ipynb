{
 "cells": [
  {
   "attachments": {},
   "cell_type": "markdown",
   "id": "0aa6b0a6",
   "metadata": {},
   "source": [
    "## Lecture 1: Introduction to Programming"
   ]
  },
  {
   "cell_type": "code",
   "execution_count": 2,
   "id": "beb0818d",
   "metadata": {},
   "outputs": [
    {
     "name": "stdout",
     "output_type": "stream",
     "text": [
      "Hello world\n"
     ]
    }
   ],
   "source": [
    "print(\"Hello world\")    "
   ]
  },
  {
   "attachments": {},
   "cell_type": "markdown",
   "id": "904c4ef8",
   "metadata": {},
   "source": [
    "## Lecture 2: Introduction to Basic Python operation"
   ]
  },
  {
   "cell_type": "code",
   "execution_count": 5,
   "id": "e46c8f42",
   "metadata": {},
   "outputs": [
    {
     "data": {
      "text/plain": [
       "'Cheers, Bob, you have £10000.'"
      ]
     },
     "execution_count": 5,
     "metadata": {},
     "output_type": "execute_result"
    }
   ],
   "source": [
    "#Strings and encodings   \n",
    "'Cheers, %s, you have £%d.' % ('Bob', 10000)"
   ]
  },
  {
   "cell_type": "code",
   "execution_count": 7,
   "id": "bf0b454e",
   "metadata": {},
   "outputs": [
    {
     "name": "stdout",
     "output_type": "stream",
     "text": [
      "your age is 25\n",
      "adult\n"
     ]
    }
   ],
   "source": [
    "#Conditional Judgment statements\n",
    "age = 25\n",
    "if age >= 18:\n",
    "    print('your age is', age)\n",
    "    print('adult')"
   ]
  },
  {
   "cell_type": "code",
   "execution_count": 8,
   "id": "9194402b",
   "metadata": {},
   "outputs": [
    {
     "name": "stdout",
     "output_type": "stream",
     "text": [
      "your age is 15\n",
      "teenager\n"
     ]
    }
   ],
   "source": [
    "age = 15\n",
    "if age >= 18:\n",
    "    print('your age is', age)\n",
    "    print('adult')\n",
    "else:\n",
    "    print('your age is', age)\n",
    "    print('teenager')"
   ]
  },
  {
   "cell_type": "code",
   "execution_count": 11,
   "id": "50cbda42",
   "metadata": {},
   "outputs": [
    {
     "name": "stdout",
     "output_type": "stream",
     "text": [
      "kid\n"
     ]
    }
   ],
   "source": [
    "age = 1 \n",
    "if age >= 18:\n",
    "    print('adult')\n",
    "elif age >= 6:\n",
    "    print('teenager')\n",
    "else:\n",
    "    print('kid')"
   ]
  },
  {
   "cell_type": "code",
   "execution_count": 13,
   "id": "56d81f82",
   "metadata": {},
   "outputs": [
    {
     "name": "stdout",
     "output_type": "stream",
     "text": [
      "age: 18\n",
      "adult\n"
     ]
    }
   ],
   "source": [
    "s = input('age: ')\n",
    "birth = int(s)\n",
    "if birth <= 18:\n",
    "    print('adult')\n",
    "else:\n",
    "    print('teenager')"
   ]
  },
  {
   "cell_type": "code",
   "execution_count": 29,
   "id": "754c7840",
   "metadata": {},
   "outputs": [
    {
     "name": "stdout",
     "output_type": "stream",
     "text": [
      "['Hasan', 'Bob', 'Richard']\n",
      "3\n",
      "Hasan\n"
     ]
    }
   ],
   "source": [
    "# Usage of “list” and “tuple”\n",
    "\n",
    "classmates = ['Hasan', 'Bob', 'Richard']\n",
    "print(classmates)\n",
    "print(len(classmates))\n",
    "print(classmates[0])"
   ]
  },
  {
   "cell_type": "code",
   "execution_count": 30,
   "id": "6a8267f8",
   "metadata": {},
   "outputs": [
    {
     "name": "stdout",
     "output_type": "stream",
     "text": [
      "['Hasan', 'Bob', 'Richard', 'Adam']\n"
     ]
    }
   ],
   "source": [
    "classmates.append('Adam')\n",
    "print(classmates)"
   ]
  },
  {
   "cell_type": "code",
   "execution_count": 31,
   "id": "e02d2fe9",
   "metadata": {},
   "outputs": [
    {
     "name": "stdout",
     "output_type": "stream",
     "text": [
      "['Hasan', 'Richard', 'Adam']\n"
     ]
    }
   ],
   "source": [
    "classmates.pop(1)\n",
    "print(classmates)"
   ]
  },
  {
   "cell_type": "code",
   "execution_count": 33,
   "id": "d22e1806",
   "metadata": {},
   "outputs": [
    {
     "name": "stdout",
     "output_type": "stream",
     "text": [
      "['subsistence', 'petrol', ['apple', 'pear', 'prune', 'date'], 'rent']\n"
     ]
    }
   ],
   "source": [
    "shopping = ['apple', 'pear', 'prune', 'date']\n",
    "payment = ['subsistence', 'petrol', shopping, 'rent']\n",
    "print(payment)"
   ]
  },
  {
   "cell_type": "code",
   "execution_count": 1,
   "id": "5cd70b79",
   "metadata": {},
   "outputs": [
    {
     "name": "stdout",
     "output_type": "stream",
     "text": [
      "('q', 'w', ['a', 's'])\n"
     ]
    },
    {
     "data": {
      "text/plain": [
       "'s'"
      ]
     },
     "execution_count": 1,
     "metadata": {},
     "output_type": "execute_result"
    }
   ],
   "source": [
    "t = ('q', 'w', ['a', 's'])\n",
    "print(t)\n",
    "t[2][1]"
   ]
  }
 ],
 "metadata": {
  "kernelspec": {
   "display_name": "Python 3 (ipykernel)",
   "language": "python",
   "name": "python3"
  },
  "language_info": {
   "codemirror_mode": {
    "name": "ipython",
    "version": 3
   },
   "file_extension": ".py",
   "mimetype": "text/x-python",
   "name": "python",
   "nbconvert_exporter": "python",
   "pygments_lexer": "ipython3",
   "version": "3.9.12"
  }
 },
 "nbformat": 4,
 "nbformat_minor": 5
}
