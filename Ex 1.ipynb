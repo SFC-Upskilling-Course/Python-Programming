{
 "cells": [
  {
   "cell_type": "markdown",
   "metadata": {},
   "source": [
    "# Exercise - Using Variables\n",
    "\n",
    "We consider a physics based scenario where a body is launched into the air at an angle $\\theta=25^\\circ$ (compared to ground level) with initial velocity of $v_0=7.5m/s$. Assume an acceleration due to gravity of $g=9.81 ms^{-2}$.\n",
    "\n",
    "Calculate the following:\n",
    "\n",
    "Initial horizontal velocity $v_{\\rm x,0}$ and vertical velocity $v_{\\rm y,0}$. Do the NumPy trigonometric functions, e.g., `np.sin()` work with angles in degrees or radians? (Use an internet search to help you, if necessary). Can you find an easy way to convert between degrees and radians using NumPy?"
   ]
  },
  {
   "cell_type": "code",
   "execution_count": null,
   "metadata": {},
   "outputs": [],
   "source": []
  },
  {
   "cell_type": "markdown",
   "metadata": {},
   "source": [
    "Total time the body spends in the air, T. Remember that the body spends as much time going up as going down, so $v_{\\rm y,0}=g T/2$."
   ]
  },
  {
   "cell_type": "code",
   "execution_count": null,
   "metadata": {},
   "outputs": [],
   "source": []
  },
  {
   "cell_type": "markdown",
   "metadata": {},
   "source": [
    "Altitude of the body after $t_1=200 \\,\\mathrm{ms}$, $t_2=400 \\,\\mathrm{ms}$ and $t_3=T$.  The relevant formula is $h=v_{\\rm y,0} t-\\frac{1}{2}g t^{2}$. You then just have to change the time and re-evaluate."
   ]
  },
  {
   "cell_type": "code",
   "execution_count": null,
   "metadata": {},
   "outputs": [],
   "source": []
  },
  {
   "cell_type": "markdown",
   "metadata": {},
   "source": [
    "Distance from the launch position at times $t_1=200\\,\\mathrm{ms}$, $t_2=400\\,\\mathrm{ms}$ and $t_3=T$, according to $d=\\sqrt{x^2 + y^2}$ where $x=v_{\\rm x,0}t$ and $y=v_{\\rm y,0}t -gt^{2}/2$."
   ]
  },
  {
   "cell_type": "code",
   "execution_count": null,
   "metadata": {},
   "outputs": [],
   "source": []
  }
 ],
 "metadata": {
  "kernelspec": {
   "display_name": "Python 3.10.6 64-bit",
   "language": "python",
   "name": "python3"
  },
  "language_info": {
   "name": "python",
   "version": "3.10.6"
  },
  "orig_nbformat": 4,
  "vscode": {
   "interpreter": {
    "hash": "949777d72b0d2535278d3dc13498b2535136f6dfe0678499012e853ee9abcab1"
   }
  }
 },
 "nbformat": 4,
 "nbformat_minor": 2
}
