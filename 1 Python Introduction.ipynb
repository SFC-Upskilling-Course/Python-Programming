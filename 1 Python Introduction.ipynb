{
 "cells": [
  {
   "cell_type": "markdown",
   "metadata": {},
   "source": [
    "# Python Programming\n",
    "\n",
    "Python is a powerful and extensible computer programming language which is well-suited to a wide range of tasks. Take the example of processing the images of the James Webb Telescope. There are so many off the shelf libraries that you can analyse and do your experiments without much programming experience and background. Lately, applications in artificial intelligence like computer vision have opened countless new opportunities in the form of data science.\n",
    "\n",
    "The goal of this module is to get you started in exploring Python and equip with all fundamental pieces of tools to help you develop a data science oriented skill.  \n",
    "\n",
    "As a programming language it is easy to learn, powerful, and will introduce you to good programming habits. You will also find it a more powerful and flexible way to handle data compared to Excel, with libraries that can handle professional statistical analysis and graph plotting.\n",
    "\n",
    "## Jupyter Notebooks\n",
    "\n",
    "Jupyter Notebooks, like this one, have become a very popular tool in technology and data analysis. Notebooks are able to hold a combination of formatted text, specifically Markdown, code, in our case Python, and the computed outputs. They are flexible in a way that we can run a computer program anywhere, like a cloud or locally on our machine. Notebooks act like a programming lab book, holding your thoughts, the steps you take in developing code and data analysis, and your results; all in a single place.\n",
    "\n",
    "In this module, we will introduce you to Jupyter Notebooks as a useful way to keep both code, and results, in an organised fashion. We will also introduce platforms like Github and Binder where you can store, run and share your code online."
   ]
  },
  {
   "cell_type": "markdown",
   "metadata": {},
   "source": [
    "*Even if you are already familiar with other programming languages, you should read through this section to familiarise yourself with Python and Jupyter Notebooks, some advice on good programming practice, and information on formative assessment (parctice exercises).*\n",
    "\n",
    "## What is Python?\n",
    "\n",
    "Python is an interpreted high-level programming language for a wide range of programming tasks.\n",
    "But what does that mean?:\n",
    "\n",
    "* Interpreted - Python does not require 'compiling', you can run your script as soon as you've written it and you can even run small snippets directly in a Python console.\n",
    "* High-level - the code you write in Python is relatively human-readable and very different to the instructions received by the computer when your code runs.\n",
    "* Programming - using a set of instructions for computers to create algorithms that complete a task, usually to make our lives more efficient.\n",
    "\n",
    "\n",
    "Guido van Rossum released the first version of Python in 1991.\n",
    "Python's philosophy of readability and simplicity has made it an extremely popular programming language.\n",
    "Python is used for research, teaching, and data science across the globe and some of its more famous users include Wikipedia, Google, NASA and Reddit (which is almost entirely written in Python).\n",
    "Unlike some other coding systems, such as MATLAB or C, Python has not been designed with a particular use case in mind; instead, Python is heavily extensible through modules that have been designed for specific tasks.\n",
    "By combining modules together Python can be used to easily compute anything that can be done in other languages in a way that is both quick to code and quick to run.\n",
    "Beyond modules for analysis and processing, there are many modules for one-, two- and three- dimensional plotting.\n",
    "\n",
    "Just like spoken languages evolve over time, Python over the years has changed a lot. The introduction of Python version 3 introduced some breaking changes, which means that code written in < Python 2.x no longer is compatible with the latest interpretators. To avoid this confusion, **we will use  Python 3.X in this module**.\n",
    "\n",
    "## What are Jupyter Notebooks?\n",
    "\n",
    "Short calculations can be executed directly from a Python console/terminal, similar to what you would do on a pocket calculator.\n",
    "However, more extensive calculations, or procedures that you want to repeat several times, are more conveniently programmed in short scripts (often saved as `.py` files).\n",
    "In scientific computing and data science we often want more than just a script, we want to combine our thoughts and assumptions, codes, outputs, and conclusions. Moreover, we want to do this in a way that is easy to share and reproduce.\n",
    "\n",
    "Enter Jupyter Notebooks (formerly IPython Notebooks) a web-based interactive environment for creating `notebooks` that contain cells of information.\n",
    "Each cell can be text (using Markdown), code (Python), mathematics (using the markup language $\\LaTeX$), plots and other media.\n",
    "Each notebook is saved as a `.ipynb` file, which is easy to send to a collaborator should they need to see the steps taken to get from A to B.\n",
    "\n",
    "In this course, we are going to use the 'Jupyter Hub', a multi-user server a Jupyter Notebook environment for completing the programming unit. We recommend the online version 'Jupyter Lite' that can accessed at [here](https://jupyter.org/try). We strongly encourage you to create a new notebook for each practical experiment you do — all your data analysis can be completed using Python."
   ]
  },
  {
   "cell_type": "markdown",
   "metadata": {},
   "source": [
    "## Help and Documentation\n",
    "\n",
    "Python is more than just a programming language, it's a huge combination of possible modules and community-built functions and tools.\n",
    "In this short module, we can not go through or learn everything about Python, but we will aim to point you to online resources that will hopefully answer some your queries and concerns. \n",
    "\n",
    "Five core documentations should give you all the technical answers you need during the course:\n",
    "\n",
    "* Python: https://docs.python.org/3/\n",
    "* NumPy: https://docs.scipy.org/doc/numpy/\n",
    "* SciPy: https://docs.scipy.org/doc/scipy/reference/\n",
    "* Matplotlib: https://matplotlib.org/\n",
    "* Jupyter Notebooks: https://jupyter-notebook.readthedocs.io/en/stable/index.html\n",
    "\n",
    "You will also want to make use of your favourite search engine and a community website called Stack Overflow, e.g., <https://stackoverflow.com/questions/tagged/python>.\n",
    "Of course, if you can't find what you need, just ask us on Moodle. "
   ]
  },
  {
   "cell_type": "markdown",
   "metadata": {},
   "source": [
    "### Example Python Code\n",
    "\n",
    "The code block below computes the distance of the point described by $(x,y)$ co-ordinates $(4,5)$ from the origin using the formula $r = \\sqrt{x^2 + y^2}$ and prints the result on the screen"
   ]
  },
  {
   "cell_type": "code",
   "execution_count": 3,
   "metadata": {},
   "outputs": [
    {
     "name": "stdout",
     "output_type": "stream",
     "text": [
      "5.0\n"
     ]
    }
   ],
   "source": [
    "import numpy as np # import numpy library for numerical computation\n",
    "x = 4 # store the values of 4 and 5 to variables x and y respectively\n",
    "y = 5\n",
    "r = np.sqrt(x**2 + y**2) # calculate the distance using the Pythogorean theorem\n",
    "print(r) # Display the value of the variable r on screen"
   ]
  }
 ],
 "metadata": {
  "kernelspec": {
   "display_name": "Python 3.9.13 64-bit",
   "language": "python",
   "name": "python3"
  },
  "language_info": {
   "codemirror_mode": {
    "name": "ipython",
    "version": 3
   },
   "file_extension": ".py",
   "mimetype": "text/x-python",
   "name": "python",
   "nbconvert_exporter": "python",
   "pygments_lexer": "ipython3",
   "version": "3.9.13"
  },
  "vscode": {
   "interpreter": {
    "hash": "397704579725e15f5c7cb49fe5f0341eb7531c82d19f2c29d197e8b64ab5776b"
   }
  }
 },
 "nbformat": 4,
 "nbformat_minor": 2
}
