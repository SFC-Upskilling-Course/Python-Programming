{
 "cells": [
  {
   "attachments": {},
   "cell_type": "markdown",
   "metadata": {},
   "source": [
    "# Piecing it Together — Functions\n",
    "\n",
    "We naturally tend to abbreviate words while we type. For example, we type LOL: laugh out loud; BTW: by the way; ASAP: as soon as possible; AFAIK: as far as I know, etc. Just like that in a programming language, functions help us abbreviate complex sets of commands that more importantly can be reused. \n",
    "\n",
    "In a programming language, a function is a block of code that is able to perform some meaningful operation. Here's how a function defintion looks like in Python."
   ]
  },
  {
   "cell_type": "code",
   "execution_count": 2,
   "metadata": {},
   "outputs": [],
   "source": [
    "# Piecing it Together - Functions\n",
    "def name( parameters or arguments ): # all functions are identifiable through the parantheses. Also note the : at the end\n",
    "    statements # note again the indentation"
   ]
  },
  {
   "cell_type": "code",
   "execution_count": null,
   "metadata": {},
   "outputs": [],
   "source": [
    "# An example function that prints a greeting message \n",
    "\n",
    "def howdy():\n",
    "    # the actual body of the function\n",
    "    print(\"Howdy!\\n\")\n",
    "    print(\"How's it going?\")"
   ]
  },
  {
   "attachments": {},
   "cell_type": "markdown",
   "metadata": {},
   "source": [
    "# Calling a Function\n",
    "\n",
    "Defining a function in its own right is nothing interesting. A function is only useful when it is called. We can call or invoke a function by its name. We can do so for the function `howdy` by writing `howdy()` in the main program. Note the parameters in the parentheses are empty as we did not describe anything in the function definition.\n",
    "\n",
    "Functions also let us control the flow of the program. This is an important concept when the program becomes large, it is easier to manage and debug."
   ]
  },
  {
   "attachments": {},
   "cell_type": "markdown",
   "metadata": {},
   "source": [
    "# Function Parameters\n",
    "\n",
    "Functions let us enable a process and program control. With the help of parameters we can pass on inputs to a function that can be likewise processed."
   ]
  },
  {
   "cell_type": "code",
   "execution_count": 3,
   "metadata": {},
   "outputs": [
    {
     "name": "stdout",
     "output_type": "stream",
     "text": [
      "Howdy!Fiona\n",
      "\n",
      "How's it going?\n"
     ]
    }
   ],
   "source": [
    "def howdy2(name):\n",
    "    # the actual body of the function\n",
    "    print(\"Howdy! \" + name + \"\\n\")\n",
    "    print(\"How's it going?\")\n",
    "\n",
    "\n",
    "howdy2(\"Fiona\")\n"
   ]
  },
  {
   "attachments": {},
   "cell_type": "markdown",
   "metadata": {},
   "source": [
    "# Functions Output\n",
    "\n",
    "Just we can provide parameters as input to a function, we can also generate an output from the function that can be returned.\n",
    "We use the keyword `return` to generate an output from a function."
   ]
  },
  {
   "cell_type": "code",
   "execution_count": 4,
   "metadata": {},
   "outputs": [
    {
     "name": "stdout",
     "output_type": "stream",
     "text": [
      "The result of 10 squared is 100.\n"
     ]
    }
   ],
   "source": [
    "def square(x):\n",
    "    y = x * x\n",
    "    return y\n",
    "\n",
    "\n",
    "toSquare = 10\n",
    "result = square(toSquare)\n",
    "print(\"The result of {} squared is {}.\".format(toSquare, result))\n"
   ]
  },
  {
   "attachments": {},
   "cell_type": "markdown",
   "metadata": {},
   "source": [
    "# Exercise\n",
    "\n",
    "Write a function `cube` that accepts an integer number as a parameter and returns the cube as an output."
   ]
  },
  {
   "cell_type": "code",
   "execution_count": null,
   "metadata": {},
   "outputs": [],
   "source": [
    "# Your code here\n"
   ]
  }
 ],
 "metadata": {
  "kernelspec": {
   "display_name": "Python 3.10.6 64-bit",
   "language": "python",
   "name": "python3"
  },
  "language_info": {
   "codemirror_mode": {
    "name": "ipython",
    "version": 3
   },
   "file_extension": ".py",
   "mimetype": "text/x-python",
   "name": "python",
   "nbconvert_exporter": "python",
   "pygments_lexer": "ipython3",
   "version": "3.10.9"
  },
  "orig_nbformat": 4,
  "vscode": {
   "interpreter": {
    "hash": "949777d72b0d2535278d3dc13498b2535136f6dfe0678499012e853ee9abcab1"
   }
  }
 },
 "nbformat": 4,
 "nbformat_minor": 2
}
