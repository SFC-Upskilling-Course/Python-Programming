{
 "cells": [
  {
   "cell_type": "markdown",
   "id": "bef32f4d",
   "metadata": {},
   "source": [
    "# Lecture 3: Introduction to the Function"
   ]
  },
  {
   "cell_type": "code",
   "execution_count": 1,
   "id": "f05868ac",
   "metadata": {},
   "outputs": [
    {
     "name": "stdout",
     "output_type": "stream",
     "text": [
      "Help on built-in function abs in module builtins:\n",
      "\n",
      "abs(x, /)\n",
      "    Return the absolute value of the argument.\n",
      "\n"
     ]
    }
   ],
   "source": [
    "# Introduction of some built-in function   \n",
    "help(abs)"
   ]
  },
  {
   "cell_type": "code",
   "execution_count": null,
   "id": "83cb8ad5",
   "metadata": {},
   "outputs": [],
   "source": [
    "############### Practice 3.1 #################\n",
    "\"\"\"\n",
    "Please use Python's built-in hex() function to \n",
    "convert an integer to a string in hexadecimal \n",
    "representation.\n",
    "\"\"\""
   ]
  },
  {
   "cell_type": "code",
   "execution_count": 35,
   "id": "b8e0a6f4",
   "metadata": {},
   "outputs": [
    {
     "data": {
      "text/plain": [
       "1"
      ]
     },
     "execution_count": 35,
     "metadata": {},
     "output_type": "execute_result"
    }
   ],
   "source": [
    "# Define a function by users   \n",
    "\n",
    "def my_abs(x):\n",
    "    if x >= 0:\n",
    "        return x\n",
    "    else:\n",
    "        return -x\n",
    "my_abs(1)"
   ]
  },
  {
   "cell_type": "code",
   "execution_count": 34,
   "id": "ee1569eb",
   "metadata": {},
   "outputs": [
    {
     "data": {
      "text/plain": [
       "(2.23606797749979, 1.1071487177940904)"
      ]
     },
     "execution_count": 34,
     "metadata": {},
     "output_type": "execute_result"
    }
   ],
   "source": [
    "import cmath\n",
    "import math\n",
    "def get_abs_phase(val):\n",
    "    val_abs = abs(val)\n",
    "    val_ph = cmath.phase(val)\n",
    "    return val_abs, val_ph\n",
    "\n",
    "x = complex(1,2) # Complex numbet input is (1+2j)\n",
    "n,m = get_abs_phase(x)\n",
    "n,m"
   ]
  },
  {
   "cell_type": "code",
   "execution_count": 36,
   "id": "96491682",
   "metadata": {},
   "outputs": [
    {
     "data": {
      "text/plain": [
       "4"
      ]
     },
     "execution_count": 36,
     "metadata": {},
     "output_type": "execute_result"
    }
   ],
   "source": [
    "# Consider multiple input parameters \n",
    "\n",
    "def power(x):\n",
    "    return x * x\n",
    "power(2)"
   ]
  },
  {
   "cell_type": "code",
   "execution_count": 37,
   "id": "0921d8c7",
   "metadata": {},
   "outputs": [
    {
     "data": {
      "text/plain": [
       "8"
      ]
     },
     "execution_count": 37,
     "metadata": {},
     "output_type": "execute_result"
    }
   ],
   "source": [
    "def power(x, n):\n",
    "    s = 1\n",
    "    while n > 0:\n",
    "        n = n - 1\n",
    "        s = s * x\n",
    "    return s\n",
    "power(2,3)"
   ]
  },
  {
   "cell_type": "code",
   "execution_count": 39,
   "id": "dfefddf4",
   "metadata": {},
   "outputs": [
    {
     "data": {
      "text/plain": [
       "4"
      ]
     },
     "execution_count": 39,
     "metadata": {},
     "output_type": "execute_result"
    }
   ],
   "source": [
    "def power(x, n=2):\n",
    "    s = 1\n",
    "    while n > 0:\n",
    "        n = n - 1\n",
    "        s = s * x\n",
    "    return s\n",
    "power(2,2)"
   ]
  }
 ],
 "metadata": {
  "kernelspec": {
   "display_name": "Python 3 (ipykernel)",
   "language": "python",
   "name": "python3"
  },
  "language_info": {
   "codemirror_mode": {
    "name": "ipython",
    "version": 3
   },
   "file_extension": ".py",
   "mimetype": "text/x-python",
   "name": "python",
   "nbconvert_exporter": "python",
   "pygments_lexer": "ipython3",
   "version": "3.9.12"
  }
 },
 "nbformat": 4,
 "nbformat_minor": 5
}
