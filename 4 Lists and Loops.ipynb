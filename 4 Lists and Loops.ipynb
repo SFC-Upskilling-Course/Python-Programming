{
 "cells": [
  {
   "cell_type": "markdown",
   "metadata": {},
   "source": [
    "# Lists, Loops et al.\n",
    "\n",
    "\n",
    "## Various Types of Data\n",
    "Previously, we saw the use of variables and basic mathematical operators. We also introduced the `numpy` Every computer program (regardless of the language) consists of a bunch of statements. Each statement has a particular goal such as decision, assignment or just repetition (more on that soon).\n",
    "\n",
    "In scientific computing, we often deal with a *bunch* of numbers at the same time. Enter lists, which are a special type of data that can be used to represent matrices, vectors as well as scalars. A list stored in a computer memory is akin to a contiguous series of identical houses on a street. \n",
    "\n",
    "There are some preliminary steps when it comes to manipulating data through lists. First, we need to *initialise* a list with some data. Then, if we want to *access* a particular element in a list, we can do so through its index (think of house address). The first house on the street i.e., the first list element has an index 0 (`variable[0]`). Let's look at an example.\n"
   ]
  },
  {
   "cell_type": "code",
   "execution_count": 3,
   "metadata": {},
   "outputs": [
    {
     "name": "stdout",
     "output_type": "stream",
     "text": [
      "[1 3 5 7 9]\n",
      "1\n",
      "1 7\n"
     ]
    }
   ],
   "source": [
    "import numpy as np # import the numpy module with an alias of np\n",
    "\n",
    "# initialise the list named addresses that contains the addresses of the houses on the eastern side of a street\n",
    "addresses = np.array([1,3,5,7,9])\n",
    "\n",
    "# we use the brackets [] to represent a list\n",
    "\n",
    "# print all the addresses\n",
    "print(addresses)\n",
    "\n",
    "# print just the first house address\n",
    "print(addresses[0])\n",
    "\n",
    "# print the addresses of the first ([0]) and the fourth ([3]) house\n",
    "print(addresses[0], addresses[3])"
   ]
  },
  {
   "cell_type": "markdown",
   "metadata": {},
   "source": [
    "There are other similar types of data such as tuples (fixed and immutable lists), dictionaries (list used for paired data)"
   ]
  },
  {
   "cell_type": "code",
   "execution_count": 1,
   "metadata": {},
   "outputs": [],
   "source": [
    "# a tuple containing places in Scotland (note the comma , at the end)\n",
    "towns = 'Milngavie', 'Menzies', 'Cockburn', 'Strathaven', 'Finzean', 'Ballinshoe', 'Hareshaw',\n",
    "\n",
    "# pronunciations Mul-guy, Ming-is, Coe-burn, Stry-ven, Fing-un,'Ben-shee,'Her-shi'"
   ]
  },
  {
   "cell_type": "markdown",
   "metadata": {},
   "source": [
    "## Loops — Merry–go-round\n",
    "\n",
    "Computers are inherently designed to replace humans for boring, *repetitive* tasks. Enter loop, one of the most important components of any programming language which helps us to perform those boring, repetitive tasks, like a robot. Usually, there are two kinds of loop statements; one that runs **until** a condition is met (`while` loop); and the second where we configure the loop to iterate for a predefined number of times. We are going to focus on the latter (`for` loop).\n",
    "\n",
    "Let us look at an example. Below we have the famous power series representation of the Euler's formula:\n",
    "\n",
    "$$e^{x}=1+x+\\frac{x^{2}}{2 !}+\\frac{x^{3}}{3 !} + \\dots \n",
    "$$\n",
    "$$e^{x}= \\sum_{n=0}^{∞}\\frac{x^n}{n!}$$\n",
    "\n",
    "To a reasonably good approximation, we can truncate the above series to ten terms. Lets try to represent the series expression using a loop. "
   ]
  },
  {
   "cell_type": "code",
   "execution_count": 14,
   "metadata": {},
   "outputs": [
    {
     "name": "stdout",
     "output_type": "stream",
     "text": [
      "0\n",
      "1\n",
      "2\n",
      "3\n",
      "4\n",
      "5\n",
      "6\n",
      "7\n",
      "8\n",
      "9\n",
      "The value of e^ 2 is 7.3887125220458545\n",
      "Actual value is 7.38905609893065\n"
     ]
    }
   ],
   "source": [
    "## The code below uses for loops to compute the Euler's series representation of e^(x)\n",
    "\n",
    "# For a start e^(2) ≈ 7.3891\n",
    "# We would like to represent e^2 ≈ 1 + 2 + 2^2/2! + 2^3/3! + 2^4/4! + 2^5/5 + and until ten terms\n",
    "import numpy as np\n",
    "x = 2\n",
    "exp = 0 # initialise the variable exponential\n",
    "\n",
    "# The format of for loop\n",
    "# for i -> i is the variable that is going to be used as a counter\n",
    "# we use another function range that creates a list of numbers from 0 - 10 with a default step of 1.\n",
    "for i in range(0,10):\n",
    "    print(i) # Use this to keep track of the variable value in each iteration of the loop\n",
    "    \n",
    "    # use numpy functions such as math.factorial \n",
    "    exp = exp + x**i/np.math.factorial(i) \n",
    "    \n",
    "print('The value of e^',x, 'is', exp)\n",
    "# use another function to get the actual value\n",
    "print('Actual value is', np.math.exp(2))"
   ]
  },
  {
   "cell_type": "markdown",
   "metadata": {},
   "source": [
    "In the code above, rather than manually adding all the ten terms which would have been tedious, we automate the process using a for loop that is going to run for 10 times (0 - 9).  "
   ]
  },
  {
   "cell_type": "markdown",
   "metadata": {},
   "source": [
    "## On to Dictionaries\n",
    "\n",
    "Dictionaries are kinds of lists with key:value pairs. We use curly brackets `{}`. Dictionaries enable a kind of mapping between keys and values. Let's make a dictionary: "
   ]
  },
  {
   "cell_type": "code",
   "execution_count": 25,
   "metadata": {},
   "outputs": [
    {
     "name": "stdout",
     "output_type": "stream",
     "text": [
      "('Jake', 'Assembly')\n",
      "('Jill', 'Python')\n",
      "('Ayesha', 'C')\n",
      "('Wang', 'Fortran')\n",
      "('Dipika', 'Java')\n",
      "('Bob', 'C#')\n",
      "Jake\n",
      "Jill\n",
      "Ayesha\n",
      "Wang\n",
      "Dipika\n",
      "Bob\n",
      "Assembly\n",
      "Python\n",
      "C\n",
      "Fortran\n",
      "Java\n",
      "C#\n",
      "Fortran\n",
      "C\n",
      "None\n"
     ]
    }
   ],
   "source": [
    "## Create a dictionary of programming languages\n",
    "\n",
    "fav_langs = {'Jake': 'Assembly',\n",
    "            'Jill':'Python',\n",
    "            'Ayesha':'C',\n",
    "            'Wang':'Fortran',\n",
    "            'Dipika':'Java',\n",
    "            'Bob':'C#'\n",
    "            }"
   ]
  },
  {
   "cell_type": "code",
   "execution_count": null,
   "metadata": {},
   "outputs": [],
   "source": [
    "## Access all the items in a dictionary\n",
    "for langs in fav_langs.items():\n",
    "    print(langs)\n",
    "\n",
    "## Access only the `keys` in the dictionary\n",
    "for langs in fav_langs.keys():\n",
    "    print(langs)\n",
    "\n",
    "## Access only the `values` in the dictionary\n",
    "for langs in fav_langs.values():\n",
    "    print(langs)\n",
    "\n",
    "## Access specific items in a dictionary\n",
    "# Favourite language of Wang\n",
    "# we use the get function\n",
    "print(fav_langs.get('Wang'))\n",
    "\n",
    "# We can change the value by accessing the key\n",
    "fav_langs['Wang'] = 'C'\n",
    "\n",
    "# Just to check how value is being changed\n",
    "print(fav_langs.get('Wang'))\n"
   ]
  }
 ],
 "metadata": {
  "kernelspec": {
   "display_name": "Python 3.10.6 64-bit",
   "language": "python",
   "name": "python3"
  },
  "language_info": {
   "codemirror_mode": {
    "name": "ipython",
    "version": 3
   },
   "file_extension": ".py",
   "mimetype": "text/x-python",
   "name": "python",
   "nbconvert_exporter": "python",
   "pygments_lexer": "ipython3",
   "version": "3.10.6"
  },
  "orig_nbformat": 4,
  "vscode": {
   "interpreter": {
    "hash": "949777d72b0d2535278d3dc13498b2535136f6dfe0678499012e853ee9abcab1"
   }
  }
 },
 "nbformat": 4,
 "nbformat_minor": 2
}
