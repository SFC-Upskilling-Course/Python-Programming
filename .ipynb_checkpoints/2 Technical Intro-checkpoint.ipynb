{
 "cells": [
  {
   "cell_type": "markdown",
   "metadata": {},
   "source": [
    "# Introduction\n",
    "\n",
    "*Even if you are already familiar with other programming languages, you should read through this section to familiarise yourself with Python and Jupyter Notebooks, some advice on good programming practice, and information on formative assessment (parctice exercises).*\n",
    "\n",
    "## What is Python?\n",
    "\n",
    "Python is an interpreted high-level programming language for a wide range of programming tasks.\n",
    "But what does that mean?:\n",
    "\n",
    "* Interpreted - Python does not require 'compiling', you can run your script as soon as you've written it and you can even run small snippets directly in a Python console.\n",
    "* High-level - the code you write in Python is relatively human-readable and very different to the instructions received by the computer when your code runs.\n",
    "* Programming - using a set of instructions for computers to create algorithms that complete a task, usually to make our lives more efficient.\n",
    "\n",
    "\n",
    "Guido van Rossum released the first version of Python in 1991.\n",
    "Python's philosophy of readability and simplicity has made it an extremely popular programming language.\n",
    "We use Python for research, teaching, and data science across the globe and some of its more famous users include Wikipedia, Google, NASA, and Reddit (which is almost entirely written in Python).\n",
    "Unlike some other coding systems, such as MATLAB or C, Python has not been designed with a particular use case in mind; instead, Python is heavily extensible through modules that have been designed for specific tasks.\n",
    "By combining modules together Python can be used to easily compute anything that can be done in other languages in a way that is both quick to code and quick to run.\n",
    "Beyond modules for analysis and processing, there are many modules for one-, two- and three-dimensional plotting.\n",
    "\n",
    "Just like spoken languages evolve over time, Python over the years has changed a lot. The introduction of Python version 3 introduced some breaking changes, which means that code written in < Python 2.x no longer is compatible with the latest interpreters. To avoid this confusion, **we will use Python 3.X in this module**.\n",
    "\n",
    "## What are Jupyter Notebooks?\n",
    "\n",
    "Short calculations can be executed directly from a Python console/terminal, similar to what you would do on a pocket calculator.\n",
    "However, more extensive calculations, or procedures that you want to repeat several times, are more conveniently programmed in short scripts (often saved as `.py` files).\n",
    "In scientific computing and data science we often want more than just a script, we want to combine our thoughts and assumptions, codes, outputs, and conclusions. Moreover, we want to do this in a way that is easy to share and reproduce.\n",
    "\n",
    "Enter Jupyter Notebooks (formerly IPython Notebooks) a web-based interactive environment for creating `notebooks` that contain cells of information.\n",
    "Each cell can be text (using Markdown), code (Python), mathematics (using the markup language $\\LaTeX$), plots and other media.\n",
    "Each notebook is saved as a `.ipynb` file, which is easy to send to a collaborator should they need to see the steps taken to get from A to B.\n",
    "\n",
    "In this course, we are going to use the 'Jupyter Hub', a multi-user server a Jupyter Notebook environment for completing the programming unit. We recommend the online version 'Jupyter Lite' that can accessed at [here](https://jupyter.org/try). We strongly encourage you to create a new notebook for each practical experiment you do — all your data analysis can be completed using Python.\n",
    "\n",
    "## Saving Your Work\n",
    "\n",
    "Where an exercise asks you to save a plot, you should do so as a `.png` file alongside your `.ipynb` file containing the Python code and associated texts and outputs that generated it. That way there is a permanent record of what you have done, and you will not have to re-create the graph from scratch.\n",
    "\n",
    "## Our Aims \n",
    "\n",
    "By the end of these sessions you should be able to use Python to\n",
    "\n",
    "* perform calculations on numbers and arrays of numbers;\n",
    "* manipulate text and text files;\n",
    "* use flow control statements such as `for`, `while` and `if` statements;\n",
    "* extract useful data from complex data structures;\n",
    "* import standard libraries and use library functions, to avoid reinventing the wheel;\n",
    "* define and use software functions that you have written yourself;\n",
    "* use good programming practice, including the use of comments\n",
    "* plot data and fit simple functions to that data\n",
    "* undertake simple statistical analysis of experimental data\n",
    "\n",
    "## Commenting\n",
    "\n",
    "It is good practice to comment your codes so the reader (which might be you when you next look at it) knows how you arrived at your answer, or how to interpret the result.  In a Jupyter Notebook you should do this in two ways:\n",
    "\n",
    "1. By using a Markdown cell (such as this one) to write a chunk of formatted text. Markdown cells can use rich formatting, HTML and $\\LaTeX$ allowing you to include images, videos, formulae, and maths. Throughout the course you will be asked questions which you should answer in cells like this.\n",
    "2. By commenting the Python code itself (see below).\n",
    "\n",
    "In the top panel you can see that this cell is a Markdown cell.\n",
    "You can switch between different styles by selecting e.g., “Code” from the drop-down menu.\n",
    "If you want to return it to “Markdown” make your selection and run the cell by pressing `Ctrl+Enter`.\n",
    "\n",
    "## Python Comments\n",
    "\n",
    "In Python, everything after a `#` will be treated as a comment and not run when the rest of the code is, for example,\n",
    "\n",
    "```python\n",
    "x = 2  # assigns the value of 2 to x\n",
    "```\n",
    "\n",
    "That was not a very informative comment, though (it should hopefully be obvious that that is what is happening!). Typically a comment will describe the *purpose* of one or more lines of code. For example,\n",
    "\n",
    "```python\n",
    "r = np.sqrt(x**2 + y**2)  # use Pythagoras to calculate radial distance\n",
    "```\n",
    "\n",
    "If you hit `Ctrl+Enter` in the cell below, it should run the code and produce a result.\n"
   ]
  },
  {
   "cell_type": "code",
   "execution_count": 1,
   "metadata": {},
   "outputs": [
    {
     "name": "stdout",
     "output_type": "stream",
     "text": [
      "6.4031242374328485\n"
     ]
    }
   ],
   "source": [
    "import numpy as np  # import numpy library for numerical computation\n",
    "x = 4  # store the values of 4 and 5 to variables x and y respectively\n",
    "y = 5\n",
    "# calculate the distance using the Pythogorean theorem\n",
    "r = np.sqrt(x**2 + y**2)\n",
    "print(r)  # Display the value of the variable r on screen"
   ]
  }
 ],
 "metadata": {
  "kernelspec": {
   "display_name": "Python 3.9.13 64-bit",
   "language": "python",
   "name": "python3"
  },
  "language_info": {
   "codemirror_mode": {
    "name": "ipython",
    "version": 3
   },
   "file_extension": ".py",
   "mimetype": "text/x-python",
   "name": "python",
   "nbconvert_exporter": "python",
   "pygments_lexer": "ipython3",
   "version": "3.10.6"
  },
  "orig_nbformat": 4,
  "vscode": {
   "interpreter": {
    "hash": "949777d72b0d2535278d3dc13498b2535136f6dfe0678499012e853ee9abcab1"
   }
  }
 },
 "nbformat": 4,
 "nbformat_minor": 2
}
