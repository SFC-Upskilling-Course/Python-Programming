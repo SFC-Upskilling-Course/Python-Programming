{
 "cells": [
  {
   "cell_type": "markdown",
   "metadata": {},
   "source": [
    "# Variables and Mathematical Operations\n",
    "\n",
    "## Using Variables\n",
    "\n",
    "Programming languages use variables (names) to refer to objects, such as numbers, that we wish to reuse again. In Python, variables are assigned with the `=` symbol, e.g., `a = 3`.\n",
    "\n",
    "Variables can hold almost anything, but we will usually use them to store a number (or an array of multiple numbers). Python and NumPy (more later) both have their own data types, some of which we will cover in this course. Once defined, the variable `a` can be used over and over again. Variables can be used to store information, but you can also do calculations with variables, e.g., `c = a + b`, just like you would with numbers.\n",
    "\n",
    "## Printing Variables\n",
    "\n",
    "We may want to check on the value stored in a variable. We can do this using the `print()` function. It is also possible to print out some text (text is referred to in programming as a “string”). You can write a string by surrounding your text with quotation marks. Run the cell below to see all this in action."
   ]
  },
  {
   "cell_type": "code",
   "execution_count": null,
   "metadata": {},
   "outputs": [],
   "source": [
    "# Create two new variables 'a' and 'b' and assign them integer values\n",
    "a = 2\n",
    "b = 3\n",
    "\n",
    "# Print 'a' and 'b'\n",
    "print(a, b)\n",
    "\n",
    "# Update 'a' and print out 'a' and 'b' again. Note that the value printed for 'a' has changed\n",
    "a = 4\n",
    "print(a, b)\n",
    "\n",
    "# Better: print out a string of text in order to make it clearer what the numbers actually mean\n",
    "print('The value of a is', a)\n",
    "print('The value of b is', b)\n"
   ]
  },
  {
   "cell_type": "markdown",
   "metadata": {},
   "source": [
    "Now edit the cell below, to write some code that assigns the product of `a` and `b` to a new variable `c`, and then print `a`, `b` and `c`."
   ]
  },
  {
   "cell_type": "code",
   "execution_count": null,
   "metadata": {},
   "outputs": [],
   "source": [
    "# Write your Python code here\n",
    "\n"
   ]
  },
  {
   "cell_type": "markdown",
   "metadata": {},
   "source": [
    "## Formatted Printing\n",
    "\n",
    "We can mix text and numbers in a much more sophisticated way, which is helpful for generating readable output from your code."
   ]
  },
  {
   "cell_type": "code",
   "execution_count": null,
   "metadata": {},
   "outputs": [],
   "source": [
    "import numpy as np\n",
    "\n",
    "a = 1.2222223\n",
    "b = np.pi\n",
    "\n",
    "# Print the variables on their own (to more significant figures than are probably appropriate for your calculation)\n",
    "print(a, b)\n",
    "\n",
    "# With supporting text (still too many significant figures):\n",
    "print('Variable a: {0}; Pi: {1}'.format(a,b))\n",
    "# Note that {0} refers to the first variable you list after 'format' (i.e. a in this case),\n",
    "# {1} refers to the second variable (i.e. b in this case), etc.\n",
    "\n",
    "# To two decimal places:\n",
    "print('Variable a (2 d.p.): {0:.2f}; Pi: {1:.2f}'.format(a,b))\n",
    "\n",
    "# To one significant figure:\n",
    "print('Variable a (1 sig fig): {0:.1g}; Pi: {1:.1g}'.format(a,b))"
   ]
  },
  {
   "cell_type": "markdown",
   "metadata": {},
   "source": [
    "## Errors and Debugging\n",
    "\n",
    "Inevitably we will make mistakes when writing our code. Try running the cell below, and you will see that it does not work. The process of fixing your own code so that it runs successfully, and gives the correct answers, is known as *debugging*.\n",
    "\n",
    "Can you see what these common mistakes are, and debug the code so the cell runs successfully? Edit the comments to record what the error message was and what needed to be fixed\n",
    "\n",
    "What do you find?"
   ]
  },
  {
   "cell_type": "code",
   "execution_count": 1,
   "metadata": {},
   "outputs": [
    {
     "ename": "SyntaxError",
     "evalue": "unmatched ')' (805646256.py, line 1)",
     "output_type": "error",
     "traceback": [
      "\u001b[0;36m  Input \u001b[0;32mIn [1]\u001b[0;36m\u001b[0m\n\u001b[0;31m    c = a + b / 2)\u001b[0m\n\u001b[0m                 ^\u001b[0m\n\u001b[0;31mSyntaxError\u001b[0m\u001b[0;31m:\u001b[0m unmatched ')'\n"
     ]
    }
   ],
   "source": [
    "c = a + b / 2)"
   ]
  },
  {
   "cell_type": "markdown",
   "metadata": {},
   "source": [
    "### Slightly tougher pieces of code to debug\n",
    "\n",
    "Sometimes you may notice that although your code works (read runs), but generates abnormal outputs. Consider the code below. Can you figure out what is wrong with the code?"
   ]
  },
  {
   "cell_type": "code",
   "execution_count": 7,
   "metadata": {},
   "outputs": [
    {
     "name": "stdout",
     "output_type": "stream",
     "text": [
      "nan\n"
     ]
    },
    {
     "name": "stderr",
     "output_type": "stream",
     "text": [
      "/var/folders/gm/4vzvm60d0tx4rj2pycqbmb_40000gp/T/ipykernel_97714/3636064095.py:3: RuntimeWarning: invalid value encountered in arcsin\n",
      "  c = np.arcsin(a)\n"
     ]
    }
   ],
   "source": [
    "import numpy as np\n",
    "a = np.pi/2\n",
    "c = np.arcsin(a)\n",
    "print(c)\n"
   ]
  },
  {
   "cell_type": "markdown",
   "metadata": {},
   "source": [
    "### Mathematical Operators\n",
    "\n",
    "Without invoking any modules or libraries, Python is capable of performing basic arithmetic, logical and relative operations. However, we are only going to focus on the arithmetic (`*, **, /, +, -`) operators. These can be performed on variables as well as constants."
   ]
  },
  {
   "cell_type": "code",
   "execution_count": 11,
   "metadata": {},
   "outputs": [
    {
     "data": {
      "text/plain": [
       "-1.0"
      ]
     },
     "execution_count": 11,
     "metadata": {},
     "output_type": "execute_result"
    }
   ],
   "source": [
    "# A random arithmetic expression\n",
    "a = 4\n",
    "(3*15)/(5-2) - a**2"
   ]
  },
  {
   "cell_type": "markdown",
   "metadata": {},
   "source": [
    "## The `numpy` module\n",
    "\n",
    "Python is a very extensible programming language, and many of the more advanced features and useful tools are made available through calling 'modules' into our code.\n",
    "\n",
    "For scientific computing and data science in general, the `numpy` module is extensively used as it is designed to allow easy mathematical operations including linear algebra, Fourier transforms, and so on. \n",
    "\n",
    "Following our first *Lego* analogy, we will use the numpy module as a building block to write advanced codes. To do so, we first need to tell interpreter to `import` the module in the Python code. While importing modules, we can assign names to them, e.g., `import numpy as np` where `np` has been traditionally used with numpy.\n",
    "\n",
    "\n",
    "More on Numpy [here](http://www.numpy.org/)."
   ]
  },
  {
   "cell_type": "code",
   "execution_count": 14,
   "metadata": {},
   "outputs": [
    {
     "name": "stdout",
     "output_type": "stream",
     "text": [
      "0.7071067811865475\n"
     ]
    }
   ],
   "source": [
    "import numpy as np # import the numpy module. the nickname or formally the alias `np` can be used to invoke the module in the code\n",
    "\n",
    "# If we want to use the numpy contents, we simply type np.___\n",
    "\n",
    "# Example\n",
    "pi = np.pi # use the value of pi\n",
    "x = np.sin (pi/4) # compute the sin of a variable \n",
    "\n",
    "print(x)"
   ]
  }
 ],
 "metadata": {
  "kernelspec": {
   "display_name": "Python 3.10.6 64-bit",
   "language": "python",
   "name": "python3"
  },
  "language_info": {
   "codemirror_mode": {
    "name": "ipython",
    "version": 3
   },
   "file_extension": ".py",
   "mimetype": "text/x-python",
   "name": "python",
   "nbconvert_exporter": "python",
   "pygments_lexer": "ipython3",
   "version": "3.10.6"
  },
  "orig_nbformat": 4,
  "vscode": {
   "interpreter": {
    "hash": "949777d72b0d2535278d3dc13498b2535136f6dfe0678499012e853ee9abcab1"
   }
  }
 },
 "nbformat": 4,
 "nbformat_minor": 2
}
